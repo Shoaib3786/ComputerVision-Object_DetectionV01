{
 "cells": [
  {
   "cell_type": "markdown",
   "metadata": {
    "id": "dQSreQK-NvrB"
   },
   "source": [
    "# Image Localization"
   ]
  },
  {
   "cell_type": "markdown",
   "metadata": {
    "id": "-chs2kuuNzHq"
   },
   "source": [
    "Cloning Data from github"
   ]
  },
  {
   "cell_type": "code",
   "execution_count": 1,
   "metadata": {
    "colab": {
     "base_uri": "https://localhost:8080/"
    },
    "id": "sXXUqb8XOPQX",
    "outputId": "6bf241e4-87d2-4a3e-a722-d417b2ed75e0"
   },
   "outputs": [
    {
     "name": "stdout",
     "output_type": "stream",
     "text": [
      "Cloning into 'synthetic_datasets'...\n",
      "remote: Enumerating objects: 42, done.\u001b[K\n",
      "remote: Counting objects: 100% (3/3), done.\u001b[K\n",
      "remote: Compressing objects: 100% (2/2), done.\u001b[K\n",
      "remote: Total 42 (delta 1), reused 1 (delta 1), pack-reused 39\u001b[K\n",
      "Unpacking objects: 100% (42/42), done.\n",
      "/content/synthetic_datasets/MNIST\n"
     ]
    }
   ],
   "source": [
    "!git clone https://github.com/ayulockin/synthetic_datasets\n",
    "%cd synthetic_datasets/MNIST/\n",
    "\n",
    "### How to unzip ###\n",
    "# '%' is used before using terminal commands. Here we build dir\n",
    "# ! => shell command meant to be executed by system command line \n",
    "# -q => silently download the files without showing in output\n",
    "# -d => unzip for file inside target folder\n",
    "# !unzip -q file to unzip -d tagerted directory name if not exist it will build automatically\n",
    "\n",
    "!unzip -q MNIST_Converted_Training.zip -d image_dataset/    \n",
    "!unzip -q MNIST_Converted_Testing.zip -d image_dataset/"
   ]
  },
  {
   "cell_type": "code",
   "execution_count": 2,
   "metadata": {
    "colab": {
     "base_uri": "https://localhost:8080/"
    },
    "id": "uWw4vX7JUVh_",
    "outputId": "f19cad3a-18a9-43c8-a89f-c02b7447648f"
   },
   "outputs": [
    {
     "name": "stdout",
     "output_type": "stream",
     "text": [
      "/content\n"
     ]
    }
   ],
   "source": [
    "#  Come to starting directory\n",
    "%cd ../.."
   ]
  },
  {
   "cell_type": "code",
   "execution_count": 3,
   "metadata": {
    "colab": {
     "base_uri": "https://localhost:8080/"
    },
    "id": "Yc51iwZbS_kA",
    "outputId": "9a99e1aa-bf4e-4511-eae8-9130ddc0c777"
   },
   "outputs": [
    {
     "name": "stdout",
     "output_type": "stream",
     "text": [
      "\u001b[0m\u001b[01;34msample_data\u001b[0m/  \u001b[01;34msynthetic_datasets\u001b[0m/\n"
     ]
    }
   ],
   "source": [
    "# check in which directory u are now\n",
    "%ls"
   ]
  },
  {
   "cell_type": "markdown",
   "metadata": {
    "id": "0dEySKqbmDyh"
   },
   "source": [
    "## Library"
   ]
  },
  {
   "cell_type": "code",
   "execution_count": 28,
   "metadata": {
    "id": "e7haiw1vmChh"
   },
   "outputs": [],
   "source": [
    "import pandas as pd\n",
    "import numpy as np\n",
    "import os\n",
    "import matplotlib.pyplot as plt\n",
    "from matplotlib.patches import Patch\n",
    "import tensorflow as tf\n",
    "from tensorflow.keras import layers\n",
    "from tensorflow.keras.models import Model"
   ]
  },
  {
   "cell_type": "markdown",
   "metadata": {
    "id": "p33u71noVw61"
   },
   "source": [
    "## In this dataset we have:\n",
    "1. Simple Images of digit as MNIST_Converted_Training , MNIST_Converted_Testing.\n",
    "\n",
    "2. CSV file of test_data, train_data consist of data in tabular form. \n",
    "It consist of:\n",
    "  *   Image Directory name [which we have to modiffy little bit as per our directory saved]\n",
    "  *   Image class [Eg: 0,1,2...etc]\n",
    "  *   Bounding Box Coordinates [xmin, ymin, xmax, ymax]\n",
    "  "
   ]
  },
  {
   "cell_type": "code",
   "execution_count": 5,
   "metadata": {
    "id": "SjXI_kIQTyYX"
   },
   "outputs": [],
   "source": [
    "\n",
    "S = 'synthetic_datasets'\n",
    "M = 'MNIST'\n",
    "I = 'image_dataset'\n",
    "columns_df = ['path', 'class', 'xmin', 'ymin', 'xmax', 'ymax']\n",
    "\n",
    "\n",
    "### reading Train data ###\n",
    "\n",
    "#reading csv file by passing its path location\n",
    "train_df = pd.read_csv(os.path.join(S,M, 'training_data.csv'), header=None)\n",
    "# giving column names to the train_df\n",
    "train_df.columns = columns_df\n",
    "\n",
    "\n",
    "### reading Test data ###\n",
    "\n",
    "#reading csv file by passing its path location\n",
    "test_df = pd.read_csv(os.path.join(S,M, 'test_data.csv'), header=None)\n",
    "# giving column names to the train_df\n",
    "test_df.columns = columns_df\n",
    "\n",
    "\n",
    "### Manipulation in path ###\n",
    "\n",
    "# Path of the images in traind_df and test_df is still not completly correct if we want to access the\n",
    "# image we have to struggle little bit hence adding more specific path prior to the mentioned path\n",
    "t = 'MNIST_Converted_Training'\n",
    "train_df['path'] = train_df['path'].apply(lambda s: os.path.join(S, M, I, t, s))\n",
    "\n",
    "t = 'MNIST_Converted_Testing'\n",
    "test_df['path'] = test_df['path'].apply(lambda s: os.path.join(S, M, I, t, s))\n",
    "\n",
    "\n"
   ]
  },
  {
   "cell_type": "markdown",
   "metadata": {
    "id": "gGa_kQYdjnaf"
   },
   "source": [
    "## Playing around in small scale then apply to prediction state\n",
    "\n",
    "- w'll use these two function in prediction state.\n"
   ]
  },
  {
   "cell_type": "code",
   "execution_count": 6,
   "metadata": {
    "colab": {
     "base_uri": "https://localhost:8080/",
     "height": 324
    },
    "id": "btLad9ESnL0S",
    "outputId": "9c5d7c09-9717-42ad-9e4d-964ce8a4caa7"
   },
   "outputs": [
    {
     "name": "stderr",
     "output_type": "stream",
     "text": [
      "WARNING:matplotlib.image:Clipping input data to the valid range for imshow with RGB data ([0..1] for floats or [0..255] for integers).\n"
     ]
    },
    {
     "data": {
      "text/plain": [
       "<matplotlib.image.AxesImage at 0x7f84fdf2a610>"
      ]
     },
     "execution_count": 6,
     "metadata": {},
     "output_type": "execute_result"
    },
    {
     "data": {
      "image/png": "[encoded data removed]",
      "text/plain": [
       "<Figure size 432x288 with 1 Axes>"
      ]
     },
     "metadata": {
      "needs_background": "light"
     },
     "output_type": "display_data"
    }
   ],
   "source": [
    "\n",
    "def load_img_vis(input_img):\n",
    "\n",
    "  # input_img = train_df['path'].iloc[0]\n",
    "\n",
    "  #reads the image using tf.io it just simply returns file as it is\n",
    "  image = tf.io.read_file(input_img)  \n",
    "\n",
    "  # image we got from previous step is the image in our dataset which is .png format now decoding it\n",
    "  image = tf.image.decode_png(image, channels=1)\n",
    "\n",
    "  # image channel was 1(gray scale) converting it to 3(bgr) AS matplot does accepts dim(x,y,1)\n",
    "  image = tf.image.grayscale_to_rgb(image)\n",
    "\n",
    "  # tycasting of image dtype from uint8 to float32\n",
    "  image = tf.cast(image,tf.float32)\n",
    "\n",
    "  return image\n",
    "\n",
    "# calling function and plotting the image\n",
    "plt.imshow(load_img_vis(train_df['path'].iloc[0]))"
   ]
  },
  {
   "cell_type": "code",
   "execution_count": 7,
   "metadata": {
    "colab": {
     "base_uri": "https://localhost:8080/"
    },
    "id": "cO8_MYIo5z4x",
    "outputId": "969ec5c9-3978-4d43-dea1-c2c5985ea52f"
   },
   "outputs": [
    {
     "data": {
      "text/plain": [
       "xmin    0.49\n",
       "ymin    0.15\n",
       "xmax    0.77\n",
       "ymax    0.43\n",
       "Name: 0, dtype: object"
      ]
     },
     "execution_count": 7,
     "metadata": {},
     "output_type": "execute_result"
    }
   ],
   "source": [
    "row = train_df.iloc[0][2:]\n",
    "row"
   ]
  },
  {
   "cell_type": "code",
   "execution_count": 8,
   "metadata": {
    "colab": {
     "base_uri": "https://localhost:8080/",
     "height": 306
    },
    "id": "wfb253FnivOH",
    "outputId": "b135bf13-f755-4ce1-a801-2614697d95a5"
   },
   "outputs": [
    {
     "name": "stderr",
     "output_type": "stream",
     "text": [
      "WARNING:matplotlib.image:Clipping input data to the valid range for imshow with RGB data ([0..1] for floats or [0..255] for integers).\n"
     ]
    },
    {
     "data": {
      "image/png": "[encoded data removed]",
      "text/plain": [
       "<Figure size 432x288 with 1 Axes>"
      ]
     },
     "metadata": {
      "needs_background": "light"
     },
     "output_type": "display_data"
    }
   ],
   "source": [
    "\n",
    "def add_bbox_on_img(df,index):\n",
    "\n",
    "\n",
    "  # multiply all bbox cordinates with 100 to to make it int  \n",
    "  x1, y1, x2, y2 = [int(cord*100) for cord in df.iloc[index][2:]] \n",
    "  \n",
    "  width = x2 - x1\n",
    "  height = y2 - y1\n",
    "\n",
    "  # build rectangular patch\n",
    "  rectangle = plt.Rectangle((x1,y1), width, height, fill = False, linewidth=1, edgecolor='r')\n",
    "\n",
    "  # plot patch\n",
    "  img = load_img_vis(df['path'].iloc[index])\n",
    "  fig, ax = plt.subplots()\n",
    "  ax.imshow(img)\n",
    "  # finally plotting patch\n",
    "  ax.add_patch(rectangle)\n",
    "  plt.show()\n",
    "\n",
    "\n",
    "\n",
    "add_bbox_on_img(train_df,205)"
   ]
  },
  {
   "cell_type": "markdown",
   "metadata": {
    "id": "yR0CrvAlQUoq"
   },
   "source": [
    "## Model Building:\n",
    "*   applying transfer learning using the base model as EfficientNet.\n",
    "*   Importing keras efficientNet.\n",
    "\n",
    "\n"
   ]
  },
  {
   "cell_type": "code",
   "execution_count": 22,
   "metadata": {
    "id": "PrnFbgx_-Co2"
   },
   "outputs": [],
   "source": [
    "\n",
    "# Build base CNN layer EfficientNet using Keras\n",
    "def build_cnn_layer():\n",
    "  \n",
    "  # using keras.EfficientNet \n",
    "  model = tf.keras.applications.efficientnet_v2.EfficientNetV2M( \n",
    "      include_top=False,\n",
    "      weights='imagenet',\n",
    "      input_shape=(100,100,3)   )\n",
    "\n",
    "  # except last 5 layers freeze all the layers for training\n",
    "  for i in model.layers[:-5]:\n",
    "    i.trainable = False\n",
    "  \n",
    "  return model\n",
    "\n",
    "\n",
    "\n",
    "\n",
    "\n",
    "# Build Dense layers\n",
    "def build_dense_layers(input_image):\n",
    "\n",
    "  x = input_image\n",
    "  x = layers.Flatten()(x)  #Flattening of input image matrix into vector for ANN\n",
    "  x = layers.Dense(128, activation = 'relu')(x)\n",
    "  # x = layers.Dense(128, activation = 'relu')(x)\n",
    "\n",
    "  return x\n",
    "\n",
    "\n",
    "\n",
    "\n",
    "\n",
    "# Build classification head layer\n",
    "def build_classifier_head(input_image):\n",
    "\n",
    "  x = input_image \n",
    "  # for multi class very important to give name to head layers[class & regress], with thier name only we assign loss while compiling.\n",
    "  classifier_head = layers.Dense(10, activation = 'softmax', name = 'class')(x)   # have classify only 10 classes\n",
    "\n",
    "  return classifier_head\n",
    "\n",
    "\n",
    "\n",
    "\n",
    "\n",
    "# Build regressor head layer\n",
    "def build_regressor_head(input_image):\n",
    "  \n",
    "  x = input_image\n",
    "  regressor_head = layers.Dense(4, name = 'regressor' )(x)   # have 4 bounding box location to predict \n",
    "\n",
    "  return regressor_head\n",
    "\n",
    "\n",
    "# base_model = build_base_layer(tf)\n",
    "\n"
   ]
  },
  {
   "cell_type": "markdown",
   "metadata": {
    "id": "Cyu5mM7JCE8F"
   },
   "source": [
    "**Combining all the seperate layer we built in the seperate functions**"
   ]
  },
  {
   "cell_type": "code",
   "execution_count": 25,
   "metadata": {
    "id": "TOsytcKcYy4w"
   },
   "outputs": [],
   "source": [
    "from numpy.ma.core import shape\n",
    "\n",
    "# Combining whole architect:   [USING FUNCTIONAL API]\n",
    "\n",
    "def final_model():\n",
    "\n",
    "  image_input = tf.keras.Input(shape=(100,100,3))  # passing input shape necessary in functional API\n",
    "\n",
    "  #adding cnn layer\n",
    "  base_model = build_cnn_layer() #build varaible to store the function returned value\n",
    "  x = base_model(image_input)  #input the data in base_model using functional API mtd\n",
    "\n",
    "  # adding dense layer\n",
    "  x = build_dense_layers(x)\n",
    "\n",
    "### Two Output heads needs the same input x from the dense layer ###\n",
    "\n",
    "  #adding classif head\n",
    "  classif_head = build_classifier_head(x)\n",
    "\n",
    "  #adding regressor head\n",
    "  regress_head = build_regressor_head(x)\n",
    "\n",
    "\n",
    "  # multi-output hence passing list of output heads in output parameter\n",
    "  return  tf.keras.Model(inputs= image_input, outputs= [classif_head, regress_head])\n",
    "\n",
    "\n"
   ]
  },
  {
   "cell_type": "markdown",
   "metadata": {
    "id": "gWScvLFb9Omp"
   },
   "source": [
    "## Arranging Image data to pass for model training:\n",
    " - We have image path in train_df & test_df.\n",
    " - So to give the image to the model we first have to take the image from the path we cannot dirctly give the path to the model bcz model accepts image as tensor/matrix not the string of path.\n",
    " - Hence w'll create load_image() function.\n",
    " - the above function will read the path -> decode it -> convert the channel -> change value dtype from uint8 to float.\n",
    " - Also we have to create tensorflow dataset to store all this Image(not path) + class + bbox locations **bcz model accepts tensorflow dataset not .csv file**"
   ]
  },
  {
   "cell_type": "code",
   "execution_count": 132,
   "metadata": {
    "id": "FgqefQ7K4XKx"
   },
   "outputs": [],
   "source": [
    "\n",
    "\n",
    "columns_df = ['xmin', 'ymin', 'xmax', 'ymax']\n",
    "\n",
    "# converting all df_train columns into individual arrays and passing it to form tensorflow dataset\n",
    "# train_path_arr = np.array(train_df['path'])\n",
    "train_class_arr = np.array(train_df['class'])\n",
    "train_bbox_arr = np.array(train_df[columns_df])\n",
    "\n",
    "# converting all df_test columns into individual arrays and passing it to form tensorflow dataset\n",
    "# test_path_arr = np.array(test_df['path'])\n",
    "test_class_arr = np.array(test_df['class'])\n",
    "test_bbox_arr = np.array(test_df[columns_df])\n",
    "\n",
    "\n",
    "#### NOTE: ####\n",
    "#1. from_tensor_slices is used to build tensorflow dataset bcz we cannot pass train_df as dataset to model bcz it is in .csv\n",
    "#2. we need to pass two parameter to from_tensor_slice as bcz load_image fuinction takes two argumen(image path & lables)\n",
    "#3. Although labels should be just class name but we are now solving Multi-lassification problem [class & regression]\n",
    "#4. Make sure in tensorflow dataset for multi-class u pass the dictonary key name same as two head layers name bcz this will\n",
    "#   help during compiling the model while passing the trainind and testing dataset.\n",
    "\n",
    "train_dataset = tf.data.Dataset.from_tensor_slices((train_df['path'].tolist(), \n",
    "                                                     {\"class\":train_class_arr, \"regressor\":train_bbox_arr}) )\n",
    " \n",
    "\n",
    "# from_tensor_slices is used to build tensorflow dtype dataset\n",
    "test_dataset = tf.data.Dataset.from_tensor_slices((test_df['path'].tolist(), \n",
    "                                                    {\"class\":test_class_arr, \"regressor\":test_bbox_arr}) )\n",
    "\n",
    "\n",
    "# process of getting the image through the path and return image as matrix & lable dict of {class, regressor} as it is\n",
    "def load_image(path, label):\n",
    "\n",
    "  # read the file from the path\n",
    "  image = tf.io.read_file(path)\n",
    "\n",
    "  #now to decode the file from previous readfile because it read the file and stored it in Machine language now we have to decode it \n",
    "  image = tf.image.decode_png(image, channels=1)\n",
    "  \n",
    "  # # convert the channels from 1 to 3 bcz model accepts 3 channel\n",
    "  image = tf.image.grayscale_to_rgb(image)\n",
    "\n",
    "  image = tf.cast(image, dtype=tf.float32) / 255. #after typecast do normalize also\n",
    "\n",
    "  # image = tf.expand_dims(image, axis=0)\n",
    "  # image = tf.expand_dims(image, axis=0)\n",
    "  return image, label\n",
    "\n",
    "\n",
    "# Now to successfully replace the train_df path containing part with actuall image matrix as well as with dictonary\n",
    "# of class and regresso value, all this inside tensorflow dataset.\n",
    "\n",
    "# using map() with tensorflow dataset [tf_Dataset.map(func)]  --> tf_dataset is like iterable ---> see documentation\n",
    "train_dataset = train_dataset.map(load_image).batch(30)  #randomly assigned batch size, \n",
    "\n",
    "test_dataset = test_dataset.map(load_image).batch(30)   #randomly assigned batch size\n",
    "\n",
    "\n",
    "#### For understanding try run this loop what's inside train_dataset ####\n",
    "# for i in train_dataset:\n",
    "#   print(i)\n",
    "\n"
   ]
  },
  {
   "cell_type": "markdown",
   "metadata": {
    "id": "3rsysJN6WdPY"
   },
   "source": [
    "## Model Compilation:\n",
    " - w'll use tensorflow compile method which is a function of tf.keras.model.\n",
    " - **we won't be using a custom loops for training the model. custom loop give as more flexibilty in our code for training the model watch https://www.youtube.com/watch?v=q7ZuZ8ZOErE**\n"
   ]
  },
  {
   "cell_type": "code",
   "execution_count": 37,
   "metadata": {
    "colab": {
     "base_uri": "https://localhost:8080/"
    },
    "id": "tGBAmsWnWdrA",
    "outputId": "0997249b-19c5-4933-b6f6-30ae5488153c"
   },
   "outputs": [
    {
     "name": "stdout",
     "output_type": "stream",
     "text": [
      "Model: \"model_2\"\n",
      "__________________________________________________________________________________________________\n",
      " Layer (type)                   Output Shape         Param #     Connected to                     \n",
      "==================================================================================================\n",
      " input_6 (InputLayer)           [(None, 100, 100, 3  0           []                               \n",
      "                                )]                                                                \n",
      "                                                                                                  \n",
      " efficientnetv2-m (Functional)  (None, 4, 4, 1280)   53150388    ['input_6[0][0]']                \n",
      "                                                                                                  \n",
      " flatten_2 (Flatten)            (None, 20480)        0           ['efficientnetv2-m[0][0]']       \n",
      "                                                                                                  \n",
      " dense_2 (Dense)                (None, 128)          2621568     ['flatten_2[0][0]']              \n",
      "                                                                                                  \n",
      " class (Dense)                  (None, 10)           1290        ['dense_2[0][0]']                \n",
      "                                                                                                  \n",
      " regressor (Dense)              (None, 4)            516         ['dense_2[0][0]']                \n",
      "                                                                                                  \n",
      "==================================================================================================\n",
      "Total params: 55,773,762\n",
      "Trainable params: 3,281,294\n",
      "Non-trainable params: 52,492,468\n",
      "__________________________________________________________________________________________________\n"
     ]
    }
   ],
   "source": [
    "# calling the final_model()\n",
    "model = final_model()\n",
    "\n",
    "model.summary()  #checking if everything is okay "
   ]
  },
  {
   "cell_type": "code",
   "execution_count": null,
   "metadata": {
    "colab": {
     "base_uri": "https://localhost:8080/"
    },
    "id": "JNLpM6JI9Lk_",
    "outputId": "9c0e66f4-443f-4e44-e7b7-b8b1aa90db0e"
   },
   "outputs": [
    {
     "name": "stdout",
     "output_type": "stream",
     "text": [
      "Model: \"model_2\"\n",
      "__________________________________________________________________________________________________\n",
      " Layer (type)                   Output Shape         Param #     Connected to                     \n",
      "==================================================================================================\n",
      " input_6 (InputLayer)           [(None, 100, 100, 3  0           []                               \n",
      "                                )]                                                                \n",
      "                                                                                                  \n",
      " efficientnetv2-m (Functional)  (None, 4, 4, 1280)   53150388    ['input_6[0][0]']                \n",
      "                                                                                                  \n",
      " flatten_2 (Flatten)            (None, 20480)        0           ['efficientnetv2-m[0][0]']       \n",
      "                                                                                                  \n",
      " dense_2 (Dense)                (None, 128)          2621568     ['flatten_2[0][0]']              \n",
      "                                                                                                  \n",
      " class (Dense)                  (None, 10)           1290        ['dense_2[0][0]']                \n",
      "                                                                                                  \n",
      " regressor (Dense)              (None, 4)            516         ['dense_2[0][0]']                \n",
      "                                                                                                  \n",
      "==================================================================================================\n",
      "Total params: 55,773,762\n",
      "Trainable params: 3,281,294\n",
      "Non-trainable params: 52,492,468\n",
      "__________________________________________________________________________________________________\n",
      "Epoch 1/4\n",
      "   1/2000 [..............................] - ETA: 9:14:30 - loss: 2.3291 - class_loss: 2.2862 - regressor_loss: 0.0429 - class_accuracy: 0.1333 - regressor_mse: 0.0429"
     ]
    }
   ],
   "source": [
    "#compile\n",
    "\n",
    "model.compile( optimizer = 'adam',\n",
    "              loss = {'class':tf.keras.losses.SparseCategoricalCrossentropy(), 'regressor': tf.keras.losses.MeanSquaredError()},\n",
    "              metrics = {'class':['accuracy'], 'regressor': ['mse']} )\n",
    "\n",
    "model.summary()\n",
    "\n",
    "model.fit(train_dataset, validation_data= test_dataset, batch_size=30, epochs = 4)\n"
   ]
  },
  {
   "cell_type": "markdown",
   "metadata": {
    "id": "SnFguYBuiKMX"
   },
   "source": [
    "## Save Model and Load model"
   ]
  },
  {
   "cell_type": "code",
   "execution_count": 44,
   "metadata": {
    "id": "F90pXUPEgwj3"
   },
   "outputs": [],
   "source": [
    "# save model\n",
    "# model.save('CNN_04_model')\n",
    "\n",
    "# load model back\n",
    "model = tf.keras.models.load_model('CNN_04_model')\n",
    "\n"
   ]
  },
  {
   "cell_type": "code",
   "execution_count": null,
   "metadata": {
    "id": "GOqZD2POlIhE"
   },
   "outputs": [],
   "source": []
  },
  {
   "cell_type": "markdown",
   "metadata": {
    "id": "T87D208FjIV1"
   },
   "source": [
    "## Prediction"
   ]
  },
  {
   "cell_type": "code",
   "execution_count": 109,
   "metadata": {
    "id": "7ytEzPs_mbue"
   },
   "outputs": [],
   "source": [
    "def load_img_vis(input_img):\n",
    "\n",
    "  # input_img = train_df['path'].iloc[0]\n",
    "\n",
    "  #reads the image using tf.io it just simply returns file as it is\n",
    "  image = tf.io.read_file(input_img)  \n",
    "\n",
    "  # image we got from previous step is the image in our dataset which is .png format now decoding it\n",
    "  image = tf.image.decode_png(image, channels=1)\n",
    "\n",
    "  # image channel was 1(gray scale) converting it to 3(bgr) AS matplot does accepts dim(x,y,1)\n",
    "  image = tf.image.grayscale_to_rgb(image)\n",
    "\n",
    "  # tycasting of image dtype from uint8 to float32\n",
    "  image = tf.cast(image,tf.float32)\n",
    "\n",
    "  \n",
    "  image = tf.expand_dims(image, axis=0)\n",
    "\n",
    "  return image\n",
    "\n",
    "\n",
    "\n"
   ]
  },
  {
   "cell_type": "code",
   "execution_count": 112,
   "metadata": {
    "colab": {
     "base_uri": "https://localhost:8080/",
     "height": 360
    },
    "id": "4ZsE5Ta3nIgT",
    "outputId": "a27792af-d92d-4bef-9d6b-d2adfafb3720"
   },
   "outputs": [
    {
     "name": "stderr",
     "output_type": "stream",
     "text": [
      "WARNING:matplotlib.image:Clipping input data to the valid range for imshow with RGB data ([0..1] for floats or [0..255] for integers).\n"
     ]
    },
    {
     "name": "stdout",
     "output_type": "stream",
     "text": [
      "(1, 100, 100, 3)\n",
      "(100, 100, 3)\n"
     ]
    },
    {
     "data": {
      "text/plain": [
       "<matplotlib.image.AxesImage at 0x7f8458516ca0>"
      ]
     },
     "execution_count": 112,
     "metadata": {},
     "output_type": "execute_result"
    },
    {
     "data": {
      "image/png": "[encoded data removed]",
      "text/plain": [
       "<Figure size 432x288 with 1 Axes>"
      ]
     },
     "metadata": {
      "needs_background": "light"
     },
     "output_type": "display_data"
    }
   ],
   "source": [
    "# calling the load_img_vis() to get the image from test data and passing for prediction\n",
    "img = load_img_vis(test_df['path'].iloc[1])\n",
    "print(img.shape)\n",
    "\n",
    "fig, ax = plt.subplots()\n",
    "img = tf.squeeze(img, axis=0)\n",
    "print(img.shape)\n",
    "ax.imshow(img)\n"
   ]
  },
  {
   "cell_type": "code",
   "execution_count": 104,
   "metadata": {
    "colab": {
     "base_uri": "https://localhost:8080/"
    },
    "id": "9KToix9PmmuP",
    "outputId": "b2420565-aab7-4da3-d158-e88175f58693"
   },
   "outputs": [
    {
     "name": "stdout",
     "output_type": "stream",
     "text": [
      "1/1 [==============================] - 0s 46ms/step\n",
      "max probability class: 1\n",
      "bbox coordinates: [0.3550005555152893, 0.3625701665878296, 0.634964644908905, 0.6424840688705444]\n"
     ]
    }
   ],
   "source": [
    "\n",
    "def prediction(img):\n",
    "  \n",
    "  # model.predict it return array of image_class[10] + regression[4] for each inserted image\n",
    "  predict = model.predict(img)\n",
    "\n",
    "\n",
    "  # predicted class of image\n",
    "  class_predict = np.argmax(predict[0][0].tolist())  #max probability class\n",
    "  print('max probability class:', class_predict)\n",
    "\n",
    "\n",
    "  # predicted bbox location of image\n",
    "  reg_predict = predict[1][0].tolist()\n",
    "  print('bbox coordinates:', reg_predict)\n",
    "\n",
    "  return class_predict, reg_predict\n",
    "\n"
   ]
  },
  {
   "cell_type": "code",
   "execution_count": 131,
   "metadata": {
    "colab": {
     "base_uri": "https://localhost:8080/",
     "height": 360
    },
    "id": "Zs3eQ12DWN_i",
    "outputId": "e933deb1-dc25-4e15-9403-8de390100b52"
   },
   "outputs": [
    {
     "name": "stdout",
     "output_type": "stream",
     "text": [
      "1/1 [==============================] - 0s 77ms/step\n"
     ]
    },
    {
     "name": "stderr",
     "output_type": "stream",
     "text": [
      "WARNING:matplotlib.image:Clipping input data to the valid range for imshow with RGB data ([0..1] for floats or [0..255] for integers).\n"
     ]
    },
    {
     "name": "stdout",
     "output_type": "stream",
     "text": [
      "max probability class: 1\n",
      "bbox coordinates: [0.3550005555152893, 0.3625701665878296, 0.634964644908905, 0.6424840688705444]\n"
     ]
    },
    {
     "data": {
      "image/png": "[encoded data removed]",
      "text/plain": [
       "<Figure size 432x288 with 1 Axes>"
      ]
     },
     "metadata": {
      "needs_background": "light"
     },
     "output_type": "display_data"
    }
   ],
   "source": [
    "def add_bbox_on_img(df,index):\n",
    "\n",
    "  # calling the load_img_vis() to get the image from test data and passing for prediction\n",
    "  img = load_img_vis(df['path'].iloc[index])\n",
    "\n",
    "  # calling prediction() to use its value here for plotting image with bbox\n",
    "  class_predict, reg_predict = prediction(img)\n",
    "\n",
    "\n",
    "  # multiply all bbox cordinates with 100 to to make it int  \n",
    "  x1, y1, x2, y2 = [int(cord*100) for cord in reg_predict] \n",
    "  \n",
    "  width = x2 - x1\n",
    "  height = y2 - y1\n",
    "\n",
    "  # build rectangular patch\n",
    "  rectangle = plt.Rectangle((x1,y1), width, height, fill = False, linewidth=1, edgecolor='r')\n",
    "\n",
    "  # plot patch\n",
    "  img = tf.squeeze(img, axis=0) #reducing dimension if image from 4 to 3 bcz plt accepts 3 dim\n",
    "  fig, ax = plt.subplots()\n",
    "  ax.imshow(img)\n",
    "  # finally plotting patch\n",
    "  ax.add_patch(rectangle)\n",
    "  plt.show()\n",
    "\n",
    "\n",
    "\n",
    "add_bbox_on_img(train_df, 5972)\n",
    "\n"
   ]
  },
  {
   "cell_type": "code",
   "execution_count": null,
   "metadata": {
    "id": "OKZa1M-Gseda"
   },
   "outputs": [],
   "source": []
  }
 ],
 "metadata": {
  "accelerator": "GPU",
  "colab": {
   "collapsed_sections": [
    "gGa_kQYdjnaf"
   ],
   "provenance": []
  },
  "gpuClass": "standard",
  "kernelspec": {
   "display_name": "Python 3 (ipykernel)",
   "language": "python",
   "name": "python3"
  },
  "language_info": {
   "codemirror_mode": {
    "name": "ipython",
    "version": 3
   },
   "file_extension": ".py",
   "mimetype": "text/x-python",
   "name": "python",
   "nbconvert_exporter": "python",
   "pygments_lexer": "ipython3",
   "version": "3.9.12"
  }
 },
 "nbformat": 4,
 "nbformat_minor": 1
}
